{
 "cells": [
  {
   "cell_type": "code",
   "execution_count": 3,
   "id": "e8c7318e",
   "metadata": {},
   "outputs": [],
   "source": [
    "import pandas as pd\n",
    "import numpy as np\n",
    "import seaborn as sns\n",
    "import matplotlib.pyplot as plt\n",
    "from scipy import stats"
   ]
  },
  {
   "cell_type": "code",
   "execution_count": 4,
   "id": "e68b5aee",
   "metadata": {},
   "outputs": [],
   "source": [
    "dfBenin = pd.read_csv('../../data/benin-malanville_clean.csv')\n",
    "dfSierraleone = pd.read_csv('../../data/sierraleone-bumbuna_clean.csv')\n",
    "dfTogo = pd.read_csv('../../data/togo-dapaong_qc_clean.csv')"
   ]
  },
  {
   "cell_type": "code",
   "execution_count": null,
   "id": "e712c101",
   "metadata": {},
   "outputs": [],
   "source": []
  }
 ],
 "metadata": {
  "kernelspec": {
   "display_name": ".venv",
   "language": "python",
   "name": "python3"
  },
  "language_info": {
   "codemirror_mode": {
    "name": "ipython",
    "version": 3
   },
   "file_extension": ".py",
   "mimetype": "text/x-python",
   "name": "python",
   "nbconvert_exporter": "python",
   "pygments_lexer": "ipython3",
   "version": "3.13.3"
  }
 },
 "nbformat": 4,
 "nbformat_minor": 5
}
